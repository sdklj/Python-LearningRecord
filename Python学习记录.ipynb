{
 "cells": [
  {
   "cell_type": "code",
   "execution_count": 4,
   "metadata": {},
   "outputs": [
    {
     "name": "stdout",
     "output_type": "stream",
     "text": [
      "type a number1\n",
      "type a numbers\n"
     ]
    }
   ],
   "source": [
    "a= input(\"type a number\")\n",
    "b= input(\"type a number\")"
   ]
  },
  {
   "cell_type": "code",
   "execution_count": 7,
   "metadata": {},
   "outputs": [
    {
     "name": "stdout",
     "output_type": "stream",
     "text": [
      "invalid value\n"
     ]
    }
   ],
   "source": [
    "try:\n",
    "    a = int(a)\n",
    "    b= int(b)\n",
    "\n",
    "    print (a/b)\n",
    "except (ValueError,ZeroDivisionError):\n",
    "    print(\"invalid value\")\n",
    "    \n"
   ]
  },
  {
   "cell_type": "code",
   "execution_count": 9,
   "metadata": {},
   "outputs": [
    {
     "name": "stdout",
     "output_type": "stream",
     "text": [
      "4\n"
     ]
    }
   ],
   "source": [
    "def add(x):\n",
    "    \"\"\"\n",
    "    返回x+y的值\n",
    "    :param x: int.\n",
    "    :param y: int.\n",
    "    :return: int, x和y的和\n",
    "    \"\"\"\n",
    "    return (x*x)\n",
    "print (add(2))"
   ]
  },
  {
   "cell_type": "code",
   "execution_count": 11,
   "metadata": {},
   "outputs": [
    {
     "name": "stdout",
     "output_type": "stream",
     "text": [
      "list\n",
      "list1\n",
      "list2\n",
      "hello\n"
     ]
    }
   ],
   "source": [
    "list0 = ['list','list1','list2']#容器 列表\n",
    "list0.append('hello')#添加元素\n",
    "for i in list0:\n",
    "    print (i)"
   ]
  },
  {
   "cell_type": "code",
   "execution_count": 13,
   "metadata": {},
   "outputs": [
    {
     "data": {
      "text/plain": [
       "['list', 'list1', 'list2']"
      ]
     },
     "execution_count": 13,
     "metadata": {},
     "output_type": "execute_result"
    }
   ],
   "source": [
    "list1=list0.pop()\n",
    "list1##元素只能append\n",
    "#list0=list0 + list1\n",
    "list0.append(list1)\n",
    "list0\n"
   ]
  },
  {
   "cell_type": "code",
   "execution_count": 14,
   "metadata": {},
   "outputs": [
    {
     "name": "stdout",
     "output_type": "stream",
     "text": [
      "3\n"
     ]
    }
   ],
   "source": [
    "\"list1\" in list0 ##容器里是否包含该元素\n",
    "print(len(list0))##容器长度\n"
   ]
  },
  {
   "cell_type": "code",
   "execution_count": 15,
   "metadata": {},
   "outputs": [
    {
     "data": {
      "text/plain": [
       "10"
      ]
     },
     "execution_count": 15,
     "metadata": {},
     "output_type": "execute_result"
    }
   ],
   "source": [
    "##元组tuple 创建后不能新增或修改。\n",
    "\n",
    "my_tuple=tuple()\n",
    "#my_tuple= ()\n",
    "my_tuple = (\"Luo\",1958,True)\n",
    "\n",
    "\n",
    "# 这是元组\n",
    "(\"self_taught\", )\n",
    "#元组只有一个元素时，要在元素后加“，”号\n",
    "\n",
    "# 这不是元组\n",
    "(9) + 1\n"
   ]
  },
  {
   "cell_type": "code",
   "execution_count": 17,
   "metadata": {},
   "outputs": [
    {
     "data": {
      "text/plain": [
       "{'apple': 'red', 'Banana': 'Yellow'}"
      ]
     },
     "execution_count": 17,
     "metadata": {},
     "output_type": "execute_result"
    }
   ],
   "source": [
    "##字典\n",
    "my_dict = dict()\n",
    "## my_dict = {}\n",
    "my_dict\n",
    "\n",
    "fruits = {\"apple\":\"red\",\n",
    "         \"Banana\":\"Yellow\"}\n",
    "fruits"
   ]
  },
  {
   "cell_type": "code",
   "execution_count": 20,
   "metadata": {},
   "outputs": [
    {
     "data": {
      "text/plain": [
       "True"
      ]
     },
     "execution_count": 20,
     "metadata": {},
     "output_type": "execute_result"
    }
   ],
   "source": [
    "fruits[\"apple\"]\n",
    "\"apple\" in fruits"
   ]
  },
  {
   "cell_type": "code",
   "execution_count": 22,
   "metadata": {},
   "outputs": [
    {
     "data": {
      "text/plain": [
       "{'Banana': 'Yellow'}"
      ]
     },
     "execution_count": 22,
     "metadata": {},
     "output_type": "execute_result"
    }
   ],
   "source": [
    "del fruits[\"apple\"]\n",
    "fruits"
   ]
  },
  {
   "cell_type": "code",
   "execution_count": 23,
   "metadata": {},
   "outputs": [
    {
     "name": "stdout",
     "output_type": "stream",
     "text": [
      "[['kanye', 'jay z', 'eminem', 'nas'], ['bob', 'beattles', 'led'], ['Zed Dead', 'Tiesto']]\n"
     ]
    }
   ],
   "source": [
    "##容器中嵌套容器\n",
    "lists=[]\n",
    "rap =[\"kanye\",\"jay z\",\"eminem\",\"nas\"]\n",
    "\n",
    "rock = [\"bob\",\"beattles\",\"led\"]\n",
    "\n",
    "djs = [\"Zed Dead\",\"Tiesto\"]\n",
    "lists.append(rap)\n",
    "lists.append(rock)\n",
    "lists.append(djs)\n",
    "print(lists)"
   ]
  },
  {
   "cell_type": "code",
   "execution_count": 24,
   "metadata": {},
   "outputs": [
    {
     "data": {
      "text/plain": [
       "[['kanye', 'jay z', 'eminem', 'nas', 'zhoujielun'],\n",
       " ['bob', 'beattles', 'led'],\n",
       " ['Zed Dead', 'Tiesto']]"
      ]
     },
     "execution_count": 24,
     "metadata": {},
     "output_type": "execute_result"
    }
   ],
   "source": [
    "rap=lists[0]\n",
    "rap.append(\"zhoujielun\")\n",
    "lists"
   ]
  },
  {
   "cell_type": "code",
   "execution_count": 26,
   "metadata": {},
   "outputs": [
    {
     "name": "stdout",
     "output_type": "stream",
     "text": [
      "[{'1': 'one', '2': 'two'}]\n",
      "({'1': 'one', '2': 'two'},)\n"
     ]
    }
   ],
   "source": [
    "my_dict = {\"1\":\"one\",\"2\":\"two\"}\n",
    "my_list = [my_dict]#列表可以放字典\n",
    "print (my_list)\n",
    "my_tuple = (my_dict,)#元组也能放字典\n",
    "print (my_tuple)"
   ]
  },
  {
   "cell_type": "code",
   "execution_count": 28,
   "metadata": {},
   "outputs": [],
   "source": [
    "##列表元组可以成为字典的值\n",
    "ny={\n",
    "    \"location\":\n",
    "    (40.0,74.0),#字典可以放元组\n",
    "    \"celeb\":\n",
    "    [\"w.willson\",##字典可以放列表\n",
    "    \"jay z\"],\n",
    "    \"facts\":\n",
    "    {\"state\":#字典里可以放字典\n",
    "    \"NY\",\n",
    "    \"contry\":\n",
    "    \"america\"}\n",
    "}"
   ]
  },
  {
   "cell_type": "code",
   "execution_count": 31,
   "metadata": {},
   "outputs": [
    {
     "name": "stdout",
     "output_type": "stream",
     "text": [
      "K a\n"
     ]
    },
    {
     "data": {
      "text/plain": [
       "'k'"
      ]
     },
     "execution_count": 31,
     "metadata": {},
     "output_type": "execute_result"
    }
   ],
   "source": [
    "##字符串操作\n",
    "\"\"\"三引号\n",
    "可以跨行\n",
    "定义\n",
    "字符串\"\"\"\n",
    "\n",
    "author = \"Kafka\"##不能修改只能重新定义\n",
    "print(author[0],author[-1])##负索引倒数第几位，从-1开始\n",
    "author[-2]"
   ]
  },
  {
   "cell_type": "code",
   "execution_count": 34,
   "metadata": {},
   "outputs": [
    {
     "name": "stdout",
     "output_type": "stream",
     "text": [
      "cat in the hat\n",
      "catcatcat\n"
     ]
    }
   ],
   "source": [
    "##字符串拼接\n",
    "string = \"cat\"+\" in\"+\" the\"+\" hat\"\n",
    "print(string)\n",
    "##字符串乘法\n",
    "strings = \"cat \"\n",
    "print(strings*3)"
   ]
  },
  {
   "cell_type": "code",
   "execution_count": 36,
   "metadata": {},
   "outputs": [
    {
     "name": "stdout",
     "output_type": "stream",
     "text": [
      "LET ALL BE CAPITAL\n",
      "let all be lower\n",
      "Allright. im ok\n"
     ]
    }
   ],
   "source": [
    "##改变大小写\n",
    "#变大写\n",
    "print(\"let all be capital\".upper())\n",
    "#变小写\n",
    "print(\"let ALL be lower\".lower())\n",
    "#将该字符串首字母大写\n",
    "print(\"allright. im ok\".capitalize())"
   ]
  },
  {
   "cell_type": "code",
   "execution_count": 39,
   "metadata": {},
   "outputs": [
    {
     "data": {
      "text/plain": [
       "'I am william james'"
      ]
     },
     "execution_count": 39,
     "metadata": {},
     "output_type": "execute_result"
    }
   ],
   "source": [
    "#格式化\n",
    "##把字符串传入{}中\n",
    "\"{} william {}\".format(\"I am\",\"james\")#{}可重复使用\n"
   ]
  },
  {
   "cell_type": "code",
   "execution_count": 41,
   "metadata": {},
   "outputs": [
    {
     "name": "stdout",
     "output_type": "stream",
     "text": [
      "Enter a noun bla\n",
      "Enter a verbasldkj\n",
      "Enter an adj al\n",
      "The  bla asldkj  al\n"
     ]
    }
   ],
   "source": [
    "##如果需要用户输入，使用format的方式很好用。\n",
    "n1 = input(\"Enter a noun\")\n",
    "v = input(\"Enter a verb\")\n",
    "adj = input(\"Enter an adj\")\n",
    "\n",
    "r = \"\"\"The {} {} {}\"\"\".format(n1,v,adj)\n",
    "print(r)"
   ]
  },
  {
   "cell_type": "code",
   "execution_count": 51,
   "metadata": {},
   "outputs": [
    {
     "name": "stdout",
     "output_type": "stream",
     "text": [
      "['I love u', ' I hate u']\n",
      "I love you\n",
      "love\n"
     ]
    }
   ],
   "source": [
    "##分割\n",
    "x = \"I love u. I hate u\".split(\".\")\n",
    "print (x)\n",
    "y= [\" \",[\"I\",\"love\",\"you\"]]\n",
    "z=y[0].join(y[1])#在字符串中每个间隔见加入前面的y[0]字符\n",
    "print(z)\n",
    "#去除*开头/末尾*的空格 \n",
    "z=\"   love   \"\n",
    "print(z.strip())"
   ]
  },
  {
   "cell_type": "code",
   "execution_count": 52,
   "metadata": {},
   "outputs": [
    {
     "name": "stdout",
     "output_type": "stream",
     "text": [
      "All @nim@ls @re equ@l.\n"
     ]
    }
   ],
   "source": [
    "#替换\n",
    "equ = \"All animals are equal.\"\n",
    "equ =equ.replace(\"a\",\"@\")#用第二个字符串，替代所有第一各字符串\n",
    "print(equ)"
   ]
  },
  {
   "cell_type": "code",
   "execution_count": 60,
   "metadata": {},
   "outputs": [
    {
     "name": "stdout",
     "output_type": "stream",
     "text": [
      "0\n"
     ]
    },
    {
     "data": {
      "text/plain": [
       "False"
      ]
     },
     "execution_count": 60,
     "metadata": {},
     "output_type": "execute_result"
    }
   ],
   "source": [
    "#查找索引 index（）可以查找第一次出现该字符串的索引。\n",
    "\n",
    "try:\n",
    "    a=\"animals\".index(\"a\")\n",
    "    print(a)\n",
    "except:\n",
    "    print(\"not found\")\n",
    "\"w\" in \"animals\""
   ]
  },
  {
   "cell_type": "code",
   "execution_count": 62,
   "metadata": {},
   "outputs": [
    {
     "name": "stdout",
     "output_type": "stream",
     "text": [
      "转义\"\n",
      "换行\n",
      "下一行\n"
     ]
    }
   ],
   "source": [
    "#字符串转义\n",
    "print(\"转义\\\"\")\n",
    "#换行\n",
    "print(\"换行\\n下一行\")\n"
   ]
  },
  {
   "cell_type": "code",
   "execution_count": 67,
   "metadata": {},
   "outputs": [
    {
     "name": "stdout",
     "output_type": "stream",
     "text": [
      "['Tolsty', 'camus', 'orwell']\n",
      "I am a good p\n",
      "I am a good p\n",
      "people!\n"
     ]
    }
   ],
   "source": [
    "#切片(slicing)\n",
    "fict=[\"Tolsty\",\"camus\",\"orwell\",\"hHHH\",\"JJJ\"]\n",
    "print(fict[0:3])\n",
    "\n",
    "strings = \"I am a good people!\"\n",
    "print(strings[0:13])\n",
    "print(strings[:13])#零的话可以留空。\n",
    "print(strings[12:])#到末尾也可以留空\n"
   ]
  },
  {
   "cell_type": "code",
   "execution_count": 78,
   "metadata": {},
   "outputs": [
    {
     "name": "stdout",
     "output_type": "stream",
     "text": [
      "['when now?', ' how now?', ' where now?']\n",
      "The fox jumped over the fence.\n"
     ]
    }
   ],
   "source": [
    "#例题将\"when now? how now? where now?\"分解为['when now?', ' how now?', ' where now?']输出\n",
    "s=\"when now? how now? where now?\"\n",
    "def splitt(s):\n",
    "    a=[]\n",
    "    while(s!=\"\"):\n",
    "        a.append(s[:s.index(\"?\")+1])\n",
    "        s=s[s.index(\"?\")+1:]\n",
    "    for i in a:\n",
    "        i=i.strip()\n",
    "    return a\n",
    "print(splitt(s))\n",
    "\n",
    "\n",
    "##将[\"The\", \"fox\", \"jumped\", \"over\", \"the\", \"fence\", \".\"]连成语法正确的一句话\n",
    "words = [\"The\", \"fox\", \"jumped\", \"over\", \"the\", \"fence\", \".\"]\n",
    "string = \"\"\n",
    "for i in words:\n",
    "    if i ==\".\":\n",
    "        string = string.strip()\n",
    "        string += i\n",
    "    else:\n",
    "        string += i\n",
    "        string += \" \"\n",
    "print(string)"
   ]
  },
  {
   "cell_type": "code",
   "execution_count": 79,
   "metadata": {},
   "outputs": [],
   "source": [
    "#第七章循环\n",
    "#"
   ]
  },
  {
   "cell_type": "code",
   "execution_count": 86,
   "metadata": {},
   "outputs": [
    {
     "name": "stdout",
     "output_type": "stream",
     "text": [
      "s\n",
      "b\n",
      "i\n",
      " \n",
      "0\n",
      "1\n",
      "2\n",
      "3\n",
      "s\n",
      "b\n",
      "i\n",
      " \n"
     ]
    }
   ],
   "source": [
    "#for 循环\n",
    "string=[\"s\",\"b\",\"i\",\" \"]\n",
    "for i in string:\n",
    "    print(i)\n",
    "for index,value in enumerate(string):#可迭代索引和元素\n",
    "    print(index)\n",
    "for i in range(len(string)):\n",
    "    print(string[i])"
   ]
  },
  {
   "cell_type": "code",
   "execution_count": 94,
   "metadata": {},
   "outputs": [
    {
     "name": "stdout",
     "output_type": "stream",
     "text": [
      "Github\n",
      "Githu\n",
      "Gith\n",
      "Git\n"
     ]
    }
   ],
   "source": [
    "#while 循环\n",
    "x = \"Github\"\n",
    "while 0<len(x):\n",
    "    print(x)\n",
    "    x=x[:-1]\n",
    "    if (len(x)<=2):\n",
    "        break"
   ]
  },
  {
   "cell_type": "code",
   "execution_count": null,
   "metadata": {},
   "outputs": [],
   "source": [
    "#continue语句 continue执行完后回到循环语句，可以用于取消不必要的循环\n",
    "for i in [\"s\",\"b\",\"u\"]:\n",
    "    if i ==\"s\":\n",
    "        continue##可以跳过”s“的循环\n",
    "    else:\n",
    "        print(i)"
   ]
  },
  {
   "cell_type": "code",
   "execution_count": 1,
   "metadata": {},
   "outputs": [
    {
     "name": "stdout",
     "output_type": "stream",
     "text": [
      "y or n ?n\n"
     ]
    }
   ],
   "source": [
    "#嵌套循环\n",
    "while input(\"y or n ?\")!=\"n\":\n",
    "    for i in \"Macbook\":\n",
    "        print(i)\n",
    "    "
   ]
  },
  {
   "cell_type": "code",
   "execution_count": 3,
   "metadata": {},
   "outputs": [
    {
     "name": "stdout",
     "output_type": "stream",
     "text": [
      "[[72, 171, 1332, 36], [8, 19, 148, 4], [264, 627, 4884, 132], [664, 1577, 12284, 332]]\n"
     ]
    }
   ],
   "source": [
    "a = [8,19,148,4]\n",
    "b = [9,1,33,83]\n",
    "c=[]\n",
    "for i in range(len(b)):\n",
    "    temp=[]\n",
    "    for j in a:\n",
    "        temp.append(b[i]*j)\n",
    "    c.append(temp)\n",
    "print(c)"
   ]
  },
  {
   "cell_type": "code",
   "execution_count": 4,
   "metadata": {},
   "outputs": [
    {
     "data": {
      "text/plain": [
       "8.0"
      ]
     },
     "execution_count": 4,
     "metadata": {},
     "output_type": "execute_result"
    }
   ],
   "source": [
    "#第八章模块\n",
    "#模块导入\n",
    "import math\n",
    "math.pow(2,3)#2的3次方"
   ]
  },
  {
   "cell_type": "code",
   "execution_count": 5,
   "metadata": {},
   "outputs": [
    {
     "data": {
      "text/plain": [
       "30"
      ]
     },
     "execution_count": 5,
     "metadata": {},
     "output_type": "execute_result"
    }
   ],
   "source": [
    "import random#随机数\n",
    "random.randint(0,100)#0~100随机整数"
   ]
  },
  {
   "cell_type": "code",
   "execution_count": 10,
   "metadata": {},
   "outputs": [
    {
     "name": "stdout",
     "output_type": "stream",
     "text": [
      "12.75\n",
      "3.5\n",
      "2\n"
     ]
    }
   ],
   "source": [
    "import statistics#统计模块 可以计算均值，中间值，中数等\n",
    "nums= [2,2,5,56,1,17,17,2]\n",
    "print(statistics.mean(nums))#算数平均值\n",
    "print(statistics.median(nums))#中间值\n",
    "print(statistics.mode(nums))#众数----必须最多的一个不能有同样最多的情况。"
   ]
  },
  {
   "cell_type": "code",
   "execution_count": 1,
   "metadata": {},
   "outputs": [
    {
     "name": "stdout",
     "output_type": "stream",
     "text": [
      "hello\n"
     ]
    }
   ],
   "source": [
    "import hello#导入其他自制模块\n",
    "import hello_main#虽然里面有主函数，但导入后不会自动执行\n",
    "hello.hello_myfriend()\n",
    "###def hello_myfriend():模块内容\n",
    "###    print(\"hello\")\n"
   ]
  },
  {
   "cell_type": "markdown",
   "metadata": {},
   "source": [
    "#第九章文件\n",
    "##写文件操作\n"
   ]
  },
  {
   "cell_type": "code",
   "execution_count": 8,
   "metadata": {},
   "outputs": [
    {
     "name": "stdout",
     "output_type": "stream",
     "text": [
      "Hello Im a file\n"
     ]
    }
   ],
   "source": [
    "#第九章 ---文件\n",
    "#写文件操作---读取，写\n",
    "import os\n",
    "os.getcwd()\n",
    "file_path=os.path.join(\"User\",\"Luo Jun\",\"test.txt\")##使用path功能创建文件路径，比较不容易出问题\n",
    "##open函数\n",
    "## r读 w写 w+读加写\n",
    "st = open(\"test.txt\",\"w\")\n",
    "st.write(\"Hello Im a file\")\n",
    "st.close()\n",
    "\n",
    "with open(\"test.txt\",\"r\") as f:     #读文件\n",
    "    print(f.read())\n",
    "##自动关闭文件\n",
    "#with open(\"【文件路径】\",\"【打开模式】\") as 【执行代码】\n",
    "with open(\"test.txt\",\"w\") as f:\n",
    "    f.write(\"Im rewrited\")#执行代码执行完成后，会关闭文件。\n",
    "    \n"
   ]
  },
  {
   "cell_type": "code",
   "execution_count": 10,
   "metadata": {},
   "outputs": [],
   "source": [
    "##csv 文件----管理Excel常用CSV文件\n",
    "##分隔符（delimiter）常用 ,|逗号和竖线。\n",
    "import csv\n",
    "with open(\"st.csv\",\"w\") as f: \n",
    "    w=csv.writer(f,delimiter=\",\")#接受以分隔符分隔的数据，返回csv文件\n",
    "    w.writerow([1,1,1])\n",
    "    w.writerow([2,2,2])\n",
    "    "
   ]
  },
  {
   "cell_type": "code",
   "execution_count": 11,
   "metadata": {},
   "outputs": [
    {
     "name": "stdout",
     "output_type": "stream",
     "text": [
      "1,1,1\n",
      "\n",
      "2,2,2\n",
      "\n"
     ]
    }
   ],
   "source": [
    "import csv\n",
    "with open(\"st.csv\",\"r\") as f:\n",
    "    r=csv.reader(f,delimiter=\",\")#接受以分隔符分隔的数据，返回csv文件\n",
    "    for row in r:\n",
    "        print(\",\".join(row))"
   ]
  },
  {
   "cell_type": "code",
   "execution_count": 12,
   "metadata": {},
   "outputs": [],
   "source": [
    "#面向对象编程介绍\n",
    "##状态\n",
    "##过程式编程-按执行顺序编写\n",
    "x=1\n",
    "y=2\n",
    "z=3\n",
    "x+y+z\n",
    "\n",
    "#随着程序变复杂，该编程方式会产生一定副作用。\n"
   ]
  },
  {
   "cell_type": "code",
   "execution_count": 14,
   "metadata": {},
   "outputs": [],
   "source": [
    "##函数式编程\n",
    "a=0 \n",
    "def increment():##顺序编程，依赖全局变量\n",
    "    global a\n",
    "    a+=1\n",
    "def increment1(a):##不依赖全局变量\n",
    "    return a+1"
   ]
  },
  {
   "cell_type": "code",
   "execution_count": 23,
   "metadata": {},
   "outputs": [
    {
     "name": "stdout",
     "output_type": "stream",
     "text": [
      "created!\n",
      "10 blue\n",
      "From w and c\n",
      "10\n",
      "blue\n",
      "From self.weight and self.color\n",
      "对象中参数也可在全局中变更\n",
      "100\n",
      "light orange\n"
     ]
    }
   ],
   "source": [
    "##面向对象编程  object-oriented\n",
    "###calss[类名]：[代码主体]\n",
    "class Orange:\n",
    "    def __init__(self,w,c):##区别1.必须在类的内部定义方法\n",
    "                            #区别2.必须必须接受至少一个参数。\n",
    "                            #init 魔法方法（magic method）\n",
    "        self.weight=w\n",
    "        self.color=c\n",
    "        print(\"created!\")\n",
    "        print(self.weight,c)\n",
    "        print(\"From w and c\")\n",
    "##对象调用，与函数调用类似\n",
    "#【类名】（【参数】）\n",
    "#替换【创建对象的名称】【init可接受的参数】\n",
    "\n",
    "or1 = Orange(10,\"blue\")\n",
    "print(or1.weight)\n",
    "print(or1.color)\n",
    "print(\"From self.weight and self.color\")\n",
    "print(\"对象中参数也可在全局中变更\")\n",
    "or1.weight = 100\n",
    "or1.color = \"light orange\"\n",
    "print(or1.weight)\n",
    "print(or1.color)"
   ]
  },
  {
   "cell_type": "code",
   "execution_count": 2,
   "metadata": {},
   "outputs": [
    {
     "name": "stdout",
     "output_type": "stream",
     "text": [
      "created!\n"
     ]
    }
   ],
   "source": [
    "class Orange1:\n",
    "    def __init__(self,w,c):##区别1.必须在类的内部定义方法\n",
    "                            #区别2.必须必须接受至少一个参数。\n",
    "                            #init 魔法方法（magic method）\n",
    "        self.weight=w\n",
    "        self.color=c\n",
    "        self.mold = 0\n",
    "    def rot(self,days,temp):\n",
    "        self.mold = days * temp\n",
    "orange = Orange1(6,\"orange\")\n",
    "#print(orange.mold)\n",
    "orange.rot(1.0,98)\n",
    "#print(orange.mold)"
   ]
  },
  {
   "cell_type": "code",
   "execution_count": 30,
   "metadata": {},
   "outputs": [
    {
     "name": "stdout",
     "output_type": "stream",
     "text": [
      "80\n"
     ]
    }
   ],
   "source": [
    "#挑战练习\n",
    "创建triangle类，创建triangle对象，使用triangle对象中area计算面积并打印。\n",
    "class triangle:\n",
    "    def __init__(self,a,b):\n",
    "        self.long = a\n",
    "        self.width = b\n",
    "    def CalArea(self):\n",
    "        print(self.width*self.long)\n",
    "triangle = triangle(10,8)\n",
    "triangle.CalArea()"
   ]
  },
  {
   "cell_type": "code",
   "execution_count": 5,
   "metadata": {},
   "outputs": [],
   "source": [
    "##第13章 -----面向对象四大支柱\n",
    "\n",
    "#13.1封装--encapsulation\n",
    "#概念1.对象将变量（状态）和方法（用来改变状态或执行涉及状态的计算，）集中在一个地方\n",
    "#概念2.指隐藏类的内部数据，以避免客户端代码直接进行访问。\n",
    "#通常维护客户端代码的同事可以方便能直接看出哪些不能调用\n",
    "\n",
    "class PrivatePublicExample:\n",
    "    def __init__(self):\n",
    "        self.public = \"safe\"\n",
    "        self._unsafe = \"unsafe\"\n",
    "    def public_method(self):\n",
    "        pass\n",
    "    def _unsafe_method(self):\n",
    "        pass"
   ]
  },
  {
   "cell_type": "code",
   "execution_count": 15,
   "metadata": {},
   "outputs": [
    {
     "name": "stdout",
     "output_type": "stream",
     "text": [
      "2 and 2\n",
      "面积：4\n",
      "I am overrided and info :3 and 3\n"
     ]
    }
   ],
   "source": [
    "#13.2--抽象\n",
    "#创建对象只创建，解决问题相关的特征（数据），就称为抽象\n",
    "\n",
    "#13.3对态\n",
    "#print(str,int,float)称之为多态\n",
    "#printstr(),printint()printfloat()未使用多态\n",
    "\n",
    "#13.4继承\n",
    "class shape():\n",
    "    def __init__(self,w,l):\n",
    "        self.width = w\n",
    "        self.len = l\n",
    "    def print_size(self):\n",
    "        print(\"{} and {}\".format(self.width,self.len))\n",
    "class area(shape):\n",
    "    def print1(self):\n",
    "        print(\"面积：{}\".format(self.width*self.len))\n",
    "\n",
    "#继承---子对象继承时，可复写父类的方法从而实现方法覆盖，（method overriding）\n",
    "class area_overriding(shape):\n",
    "    def print_size(self):\n",
    "        print(\"I am overrided and info :{} and {}\".format(self.width,self.len))\n",
    "              \n",
    "a_square = area(2,2)\n",
    "a_square.print_size()\n",
    "a_square.print1()\n",
    "b_square = area_overriding(3,3)\n",
    "b_square.print_size()##覆盖父类方法print_size()"
   ]
  },
  {
   "cell_type": "code",
   "execution_count": 29,
   "metadata": {},
   "outputs": [
    {
     "name": "stdout",
     "output_type": "stream",
     "text": [
      "Mick Jagger\n",
      "<__main__.person object at 0x000002599C9922B0>\n"
     ]
    }
   ],
   "source": [
    "#13.5组合（composition）\n",
    "#将一个对象作为变量保存在另一个对象中\n",
    "class Dog():\n",
    "    def __init__(self,name,breed,owner):\n",
    "        self.name = name\n",
    "        self.breed = breed\n",
    "        self.owner = owner\n",
    "class person():\n",
    "    def __init__(self,name):\n",
    "        self.name =name \n",
    "#创建Dog对象时将person对象作为Owner参数传入\n",
    "mick = person(\"Mick Jagger\")\n",
    "stan = Dog(\"Stanley\",\"Bulldag\",mick)\n",
    "print(stan.owner.name)\n",
    "print(stan.owner)#不能print一个类"
   ]
  },
  {
   "cell_type": "code",
   "execution_count": 33,
   "metadata": {},
   "outputs": [
    {
     "name": "stdout",
     "output_type": "stream",
     "text": [
      "MM\n"
     ]
    }
   ],
   "source": [
    "#挑战练习\n",
    "#创建一个叫Horse的类，以及一个叫Rider的类，使用组合表示一批有骑手的马。\n",
    "class Horse():\n",
    "    def __init__(self,name,Owner):\n",
    "        self.name = name\n",
    "        self.Owner = Owner\n",
    "class Rider():\n",
    "    def __init__(self,name):\n",
    "        self.name = name\n",
    "rider1 = Rider(\"MM\")\n",
    "horse1=Horse(\"Horesy\",rider1)\n",
    "print(horse1.Owner.name)"
   ]
  },
  {
   "cell_type": "code",
   "execution_count": 36,
   "metadata": {},
   "outputs": [
    {
     "name": "stdout",
     "output_type": "stream",
     "text": [
      "<class '__main__.Square'>\n",
      "实例变量9\n"
     ]
    }
   ],
   "source": [
    "#第14章---深入面向对象编程\n",
    "#类变量与实例变量\n",
    "class Square():\n",
    "    pass\n",
    "print(Square)#类变量\n",
    "\n",
    "class Square1():\n",
    "    def __init__(self,w,l):\n",
    "        self.weight = w\n",
    "        self.len = l\n",
    "square = Square1(9,2)\n",
    "print(\"实例变量width=\"+str(square.weight))"
   ]
  },
  {
   "cell_type": "code",
   "execution_count": 67,
   "metadata": {
    "scrolled": true
   },
   "outputs": [
    {
     "name": "stdout",
     "output_type": "stream",
     "text": [
      "[['blue', 2], ['Green', 4], ['Green', 5], ['blue', 5]]\n",
      "\n",
      "历史添加记录\n",
      "\n",
      "历史总表\n",
      "\n",
      "[['blue', 7], ['Green', 9]]\n"
     ]
    }
   ],
   "source": [
    "#类变量的内部调用\n",
    "class Orange():\n",
    "    history=[]\n",
    "    total=[]\n",
    "    def __init__(self,c,num):\n",
    "        self.color = c\n",
    "        self.num = num\n",
    "        self.history.append([c,num])\n",
    "        if len(self.total)==0:\n",
    "            self.total.append([c,num])\n",
    "        else:\n",
    "            loop=0\n",
    "            for i in range(len(self.total)):##寻找是否有同类相\n",
    "                if self.total[i][0]==c:\n",
    "                    self.total[i][1]+=num\n",
    "                else:\n",
    "                    loop+=1\n",
    "                if loop==len(self.total):##统计是否合并同类项\n",
    "                    self.total.append([c,num])\n",
    "or1=Orange(\"blue\",2)\n",
    "or2=Orange(\"Green\",4)\n",
    "or3=Orange(\"Green\",5)\n",
    "or4=Orange(\"blue\",5)\n",
    "\n",
    "print(Orange.history)##类名称.参数就是类变量，，类里的全局变量\n",
    "print(\"\"\"\n",
    "历史添加记录\n",
    "\n",
    "历史总表\n",
    "\"\"\")\n",
    "print(Orange.total)##类变量"
   ]
  },
  {
   "cell_type": "code",
   "execution_count": 69,
   "metadata": {},
   "outputs": [
    {
     "name": "stdout",
     "output_type": "stream",
     "text": [
      "<__main__.Lion object at 0x000002599C98D4A8>\n",
      "kitty\n"
     ]
    }
   ],
   "source": [
    "##14.2 魔法方法\n",
    "#Python中所有的类，均继承自一个叫Object 的父类。\n",
    "class Lion():\n",
    "    def __init__(self,name):\n",
    "        self.name = name\n",
    "lion = Lion(\"kitty\")\n",
    "print(lion)#python调用了Object继承的魔法方法（__repr__）并打印返回结果。\n",
    "\n",
    "#如果需要我们可以复写Object的函数\n",
    "class Lion():\n",
    "    def __init__(self,name):\n",
    "        self.name = name\n",
    "    def __repr__(self):\n",
    "        return self.name\n",
    "lion = Lion(\"kitty\")\n",
    "print(lion)"
   ]
  },
  {
   "cell_type": "code",
   "execution_count": 73,
   "metadata": {},
   "outputs": [
    {
     "name": "stdout",
     "output_type": "stream",
     "text": [
      "<__main__.Positive object at 0x000002599C9BD6D8> <__main__.Positive object at 0x000002599C9BDEB8> -10\n"
     ]
    }
   ],
   "source": [
    "class Positive():\n",
    "    def __init__(self,num):\n",
    "        self.n = num\n",
    "    def __add__(self,other):\n",
    "        return self.n+other.n##计算的其他数字\n",
    "x = Positive(-20)\n",
    "y = Positive(10)\n",
    "print(x,y,x+y)"
   ]
  },
  {
   "cell_type": "code",
   "execution_count": 75,
   "metadata": {},
   "outputs": [
    {
     "name": "stdout",
     "output_type": "stream",
     "text": [
      "True\n",
      "False\n"
     ]
    }
   ],
   "source": [
    "#is\n",
    "#如果两个对象是相同对象，关键字is返回True，反之则返回False，\n",
    "class Person():\n",
    "    def __init__(self):\n",
    "        self.name = \"Bob\"\n",
    "bob = Person()\n",
    "same_bob = bob\n",
    "print (bob is same_bob)##必须两个变量指向同一个bob\n",
    "\n",
    "another_bob = Person()##指向另一个bob\n",
    "print(bob is another_bob)"
   ]
  },
  {
   "cell_type": "code",
   "execution_count": 77,
   "metadata": {},
   "outputs": [
    {
     "name": "stdout",
     "output_type": "stream",
     "text": [
      "X is not None\n",
      "X is None :(\n"
     ]
    }
   ],
   "source": [
    "x= 10 \n",
    "if x is None:\n",
    "    print(\"X is None :(\")\n",
    "else:\n",
    "    print(\"X is not None\")#  不是 None\n",
    "x= None\n",
    "if x is None:\n",
    "    print(\"X is None :(\")\n",
    "else:\n",
    "    print(\"X is None\") #####看不懂\n",
    "    "
   ]
  },
  {
   "cell_type": "code",
   "execution_count": 78,
   "metadata": {},
   "outputs": [],
   "source": [
    "#类变量：属于类对象及其创建的对象。\n",
    "#实例变量：实例变量属于对象。\n",
    "#私有变量：对象可访问，但客户端代码不能访问的变量。\n",
    "#私有方法：对象可访问，但客户端代码不能访问的方法。\n",
    "#公有变量：客户端代码可访问的变量。\n",
    "\n",
    "#第15章---综合练习"
   ]
  },
  {
   "cell_type": "code",
   "execution_count": null,
   "metadata": {},
   "outputs": [],
   "source": [
    "#版本控制\n",
    "#团体合作编写，通常由版本控制系统（version control system）来解决问题。\n",
    "#19.1代码仓库（repository）\n",
    "#repository是Git版本控制系统，创建的一种数据结构\n",
    "##用于记录编程项目中所有变动\n",
    "#数据结构是一种组织和保存信息的方式\n",
    "#每个人都会有自己本地代码仓库（local repository）记录自己对仓库做的修改\n",
    "#同时还有一个托管在Github等网站的中央代码库（Central repository），所有本地代码仓库要与其保持一致。\n",
    "\n",
    "#19.4\n",
    "# git clone [仓库链接]\n",
    "#推送和拉取（push & fetch）\n",
    "#推送修改到中央代码仓库 共分三步。\n",
    "\n",
    "\n",
    "####推送示例\n",
    "\n",
    "\n",
    "#1.暂存（stage）文件，告诉Git 希望将哪个修改过的文件推送到中央代码仓库。\n",
    "#git status 可以显示项目只于代码仓库的当前状态，方便我们决定暂存哪些文件，\n",
    "#该命令会将本地仓库和中央代码仓库中的区别显示出来。\n",
    "#取消文件暂存后，文件以红色字体显示，暂存文件为绿色。\n",
    "#要把修改好的文件，存放在指定地址。在确认同步状态\n",
    "\n",
    "#添加暂存文件\n",
    "#git add hangman.py----------获得一个暂存文件，显示为绿色： new file hangman.py\n",
    "#取消暂存文件\n",
    "#git reset hangman.py \n",
    "#检查暂存状态\n",
    "#git status\n",
    "\n",
    "#2.提交（commit）\n",
    "#提交文件，即命令Git记录本地命令做的修改。\n",
    "#git commit -m [信息] 提交文件 ----[信息][帮助记忆对项目做了什么修改及原因]\n",
    "#git commit -m \"My first commit\"\n",
    "\n",
    "#3.推送（push）\n",
    "#最后一步将本地的修改提交至中央代码库\n",
    "#git push origin main (master因种族歧视被替换)\n",
    "\n",
    "\n",
    "#######19.5 拉取示例\n",
    "\n",
    "#在中央代码库中创建一个文件，或由其他人提交的修改。\n",
    "#可通过pull 拉取\n",
    "#git pull origin main\n",
    "\n",
    "#19.6 退回版本\n",
    "#git log -------查看项目的提交历史，并会打印出所有提交\n",
    "#commit de4e3f4938e31e7a992f734d12a85e05a7ee9e11  将hangman文件推到中央代码库\n",
    "#create new.py                                    网站创建一个文件 \n",
    "#my first commit                                  第一次创建中央代码库\n",
    "\n",
    "\n",
    "#19.7  diff\n",
    "#命令git diff -----对比本地与中央同名文件的区别。\n",
    "#git diff hangman1.py \n"
   ]
  }
 ],
 "metadata": {
  "kernelspec": {
   "display_name": "Python 3",
   "language": "python",
   "name": "python3"
  },
  "language_info": {
   "codemirror_mode": {
    "name": "ipython",
    "version": 3
   },
   "file_extension": ".py",
   "mimetype": "text/x-python",
   "name": "python",
   "nbconvert_exporter": "python",
   "pygments_lexer": "ipython3",
   "version": "3.7.3"
  }
 },
 "nbformat": 4,
 "nbformat_minor": 2
}
